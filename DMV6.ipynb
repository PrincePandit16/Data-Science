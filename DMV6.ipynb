{
 "cells": [
  {
   "cell_type": "code",
   "execution_count": 9,
   "id": "16b03cbd-2068-407c-ad91-804ed9a43c7a",
   "metadata": {},
   "outputs": [],
   "source": [
    "import pandas as pd\n",
    "import matplotlib.pyplot as plt"
   ]
  },
  {
   "cell_type": "code",
   "execution_count": 16,
   "id": "9126e914-b22a-4b14-bffe-1798dd414d85",
   "metadata": {},
   "outputs": [],
   "source": [
    "dt = pd.read_csv('Retail_Sales_Data.csv')"
   ]
  },
  {
   "cell_type": "code",
   "execution_count": 17,
   "id": "a239a87c-f26d-4524-8511-a3f2e80efcb3",
   "metadata": {
    "scrolled": true
   },
   "outputs": [
    {
     "data": {
      "text/html": [
       "<div>\n",
       "<style scoped>\n",
       "    .dataframe tbody tr th:only-of-type {\n",
       "        vertical-align: middle;\n",
       "    }\n",
       "\n",
       "    .dataframe tbody tr th {\n",
       "        vertical-align: top;\n",
       "    }\n",
       "\n",
       "    .dataframe thead th {\n",
       "        text-align: right;\n",
       "    }\n",
       "</style>\n",
       "<table border=\"1\" class=\"dataframe\">\n",
       "  <thead>\n",
       "    <tr style=\"text-align: right;\">\n",
       "      <th></th>\n",
       "      <th>Sales</th>\n",
       "      <th>Region</th>\n",
       "      <th>Product_Category</th>\n",
       "    </tr>\n",
       "  </thead>\n",
       "  <tbody>\n",
       "    <tr>\n",
       "      <th>0</th>\n",
       "      <td>7635</td>\n",
       "      <td>China</td>\n",
       "      <td>electronics</td>\n",
       "    </tr>\n",
       "    <tr>\n",
       "      <th>1</th>\n",
       "      <td>8147</td>\n",
       "      <td>India</td>\n",
       "      <td>clothing</td>\n",
       "    </tr>\n",
       "    <tr>\n",
       "      <th>2</th>\n",
       "      <td>4163</td>\n",
       "      <td>China</td>\n",
       "      <td>electronics</td>\n",
       "    </tr>\n",
       "    <tr>\n",
       "      <th>3</th>\n",
       "      <td>4166</td>\n",
       "      <td>Russia</td>\n",
       "      <td>clothing</td>\n",
       "    </tr>\n",
       "    <tr>\n",
       "      <th>4</th>\n",
       "      <td>9458</td>\n",
       "      <td>China</td>\n",
       "      <td>home_goods</td>\n",
       "    </tr>\n",
       "    <tr>\n",
       "      <th>...</th>\n",
       "      <td>...</td>\n",
       "      <td>...</td>\n",
       "      <td>...</td>\n",
       "    </tr>\n",
       "    <tr>\n",
       "      <th>1833</th>\n",
       "      <td>6455</td>\n",
       "      <td>Russia</td>\n",
       "      <td>home_goods</td>\n",
       "    </tr>\n",
       "    <tr>\n",
       "      <th>1834</th>\n",
       "      <td>9062</td>\n",
       "      <td>Russia</td>\n",
       "      <td>home_goods</td>\n",
       "    </tr>\n",
       "    <tr>\n",
       "      <th>1835</th>\n",
       "      <td>3651</td>\n",
       "      <td>China</td>\n",
       "      <td>electronics</td>\n",
       "    </tr>\n",
       "    <tr>\n",
       "      <th>1836</th>\n",
       "      <td>7480</td>\n",
       "      <td>India</td>\n",
       "      <td>clothing</td>\n",
       "    </tr>\n",
       "    <tr>\n",
       "      <th>1837</th>\n",
       "      <td>5270</td>\n",
       "      <td>China</td>\n",
       "      <td>clothing</td>\n",
       "    </tr>\n",
       "  </tbody>\n",
       "</table>\n",
       "<p>1838 rows × 3 columns</p>\n",
       "</div>"
      ],
      "text/plain": [
       "      Sales  Region Product_Category\n",
       "0      7635   China      electronics\n",
       "1      8147   India         clothing\n",
       "2      4163   China      electronics\n",
       "3      4166  Russia         clothing\n",
       "4      9458   China       home_goods\n",
       "...     ...     ...              ...\n",
       "1833   6455  Russia       home_goods\n",
       "1834   9062  Russia       home_goods\n",
       "1835   3651   China      electronics\n",
       "1836   7480   India         clothing\n",
       "1837   5270   China         clothing\n",
       "\n",
       "[1838 rows x 3 columns]"
      ]
     },
     "execution_count": 17,
     "metadata": {},
     "output_type": "execute_result"
    }
   ],
   "source": [
    "dt"
   ]
  },
  {
   "cell_type": "code",
   "execution_count": 26,
   "id": "c4ac86d0-9e48-4bd9-8df0-ec3ee5e0e661",
   "metadata": {},
   "outputs": [],
   "source": [
    "region_sales = df.groupby('Region')['Sales'].sum()"
   ]
  },
  {
   "cell_type": "code",
   "execution_count": 48,
   "id": "1421576b-ca8e-49bb-a9ad-30bce5730543",
   "metadata": {},
   "outputs": [
    {
     "name": "stdout",
     "output_type": "stream",
     "text": [
      "3258930\n"
     ]
    }
   ],
   "source": [
    "print(region_sales['China'])"
   ]
  },
  {
   "cell_type": "code",
   "execution_count": 37,
   "id": "9a83bdcb-b46f-443c-997f-fed2c056124b",
   "metadata": {},
   "outputs": [
    {
     "data": {
      "text/plain": [
       "([<matplotlib.patches.Wedge at 0x16d19eb2360>,\n",
       "  <matplotlib.patches.Wedge at 0x16d19eae9c0>,\n",
       "  <matplotlib.patches.Wedge at 0x16d19eb2d80>],\n",
       " [Text(0.5887103693187274, 0.929204014765653, 'China'),\n",
       "  Text(-1.0950689175162809, 0.10403877108905579, 'India'),\n",
       "  Text(0.4981865300665759, -0.980719216320464, 'Russia')],\n",
       " [Text(0.321114746901124, 0.5068385535085379, '32.0%'),\n",
       "  Text(-0.5973103186452441, 0.05674842059403042, '32.9%'),\n",
       "  Text(0.27173810730904135, -0.5349377543566166, '35.0%')])"
      ]
     },
     "execution_count": 37,
     "metadata": {},
     "output_type": "execute_result"
    },
    {
     "data": {
      "image/png": "[encoded data removed]",
      "text/plain": [
       "<Figure size 640x480 with 1 Axes>"
      ]
     },
     "metadata": {},
     "output_type": "display_data"
    }
   ],
   "source": [
    "plt.pie(region_sales,labels = region_sales.index,autopct=\"%1.1f%%\")"
   ]
  },
  {
   "cell_type": "code",
   "execution_count": 32,
   "id": "9f4aeaad-814a-40c8-bbc6-b02a9fb41290",
   "metadata": {},
   "outputs": [],
   "source": [
    "product_sales = df.groupby('Product_Category')['Sales'].sum()"
   ]
  },
  {
   "cell_type": "code",
   "execution_count": 33,
   "id": "2ebee9c2-ea46-464d-a1f1-96a17e903a5f",
   "metadata": {},
   "outputs": [
    {
     "name": "stdout",
     "output_type": "stream",
     "text": [
      "Product_Category\n",
      "clothing       3315946\n",
      "electronics    3422091\n",
      "home_goods     3438501\n",
      "Name: Sales, dtype: int64\n"
     ]
    }
   ],
   "source": [
    "print(product_sales)"
   ]
  },
  {
   "cell_type": "code",
   "execution_count": 38,
   "id": "ead90d64-c028-4507-8b39-46f716b8751f",
   "metadata": {},
   "outputs": [
    {
     "data": {
      "text/plain": [
       "([<matplotlib.patches.Wedge at 0x16d19eb9490>,\n",
       "  <matplotlib.patches.Wedge at 0x16d19e9e5a0>,\n",
       "  <matplotlib.patches.Wedge at 0x16d19eb9fa0>],\n",
       " [Text(0.572264766163578, 0.939421650489143, 'clothing'),\n",
       "  Text(-1.0992128171012008, 0.04160748394750968, 'electronics'),\n",
       "  Text(0.5363215414447164, -0.960395337443057, 'home_goods')],\n",
       " [Text(0.31214441790740616, 0.5124118093577142, '32.6%'),\n",
       "  Text(-0.5995706275097458, 0.02269499124409619, '33.6%'),\n",
       "  Text(0.2925390226062089, -0.5238520022416674, '33.8%')])"
      ]
     },
     "execution_count": 38,
     "metadata": {},
     "output_type": "execute_result"
    },
    {
     "data": {
      "image/png": "[encoded data removed]",
      "text/plain": [
       "<Figure size 640x480 with 1 Axes>"
      ]
     },
     "metadata": {},
     "output_type": "display_data"
    }
   ],
   "source": [
    "plt.pie(product_sales,labels = product_sales.index,autopct=\"%1.1f%%\")"
   ]
  },
  {
   "cell_type": "code",
   "execution_count": 43,
   "id": "18c37b20-cca6-40fd-a098-698661e75c67",
   "metadata": {},
   "outputs": [],
   "source": [
    "df = df.drop_duplicates(subset=['Sales','Region', 'Product_Category'])\n"
   ]
  }
 ],
 "metadata": {
  "kernelspec": {
   "display_name": "Python 3 (ipykernel)",
   "language": "python",
   "name": "python3"
  },
  "language_info": {
   "codemirror_mode": {
    "name": "ipython",
    "version": 3
   },
   "file_extension": ".py",
   "mimetype": "text/x-python",
   "name": "python",
   "nbconvert_exporter": "python",
   "pygments_lexer": "ipython3",
   "version": "3.12.1"
  }
 },
 "nbformat": 4,
 "nbformat_minor": 5
}
